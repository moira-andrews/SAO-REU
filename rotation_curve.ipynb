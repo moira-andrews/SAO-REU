{
 "cells": [
  {
   "cell_type": "code",
   "execution_count": 1,
   "id": "0f72cd2e-5100-4359-84c8-2e3c156570fc",
   "metadata": {},
   "outputs": [],
   "source": [
    "from velocity import get\n",
    "from velocity.velocity_data import particle_type\n",
    "from velocity.velocity_data import dm_mass\n",
    "from velocity.velocity_data import find_circ_vel\n",
    "from velocity.velocity_data import star_pos_vel\n",
    "import matplotlib.pyplot as plt\n",
    "import numpy as np\n",
    "from pathlib import Path"
   ]
  },
  {
   "cell_type": "code",
   "execution_count": 3,
   "id": "c369374f-8a61-4bec-86f7-ea8905ae6a0d",
   "metadata": {
    "tags": []
   },
   "outputs": [],
   "source": [
    "r,vel_circ = find_circ_vel()"
   ]
  },
  {
   "cell_type": "code",
   "execution_count": 4,
   "id": "db3ce0d8-0aaa-46bb-9c7e-d8ff67b1cc53",
   "metadata": {
    "tags": []
   },
   "outputs": [
    {
     "data": {
      "image/png": "[encoded data removed]",
      "text/plain": [
       "<Figure size 432x288 with 1 Axes>"
      ]
     },
     "metadata": {
      "needs_background": "light"
     },
     "output_type": "display_data"
    }
   ],
   "source": [
    "plt.plot(r,vel_circ, label = \"v_circ\")\n",
    "\n",
    "plt.legend()\n",
    "\n",
    "plt.xlabel(\"Radius (kpc)\")\n",
    "plt.ylabel(\"Orbital Speed (km/s)\")\n",
    "plt.title(\"Orbital Speed vs Radius\")\n",
    "plt.savefig(\"OrbitalVel_tot.png\",dpi=200)\n",
    "\n",
    "plt.show()"
   ]
  },
  {
   "cell_type": "code",
   "execution_count": 2,
   "id": "7d1101ec-36a0-40a9-be6f-7a76f767603b",
   "metadata": {},
   "outputs": [
    {
     "name": "stdout",
     "output_type": "stream",
     "text": [
      "(1707327, 3)\n",
      "(1707327, 3)\n"
     ]
    }
   ],
   "source": [
    "pos,vel,star_masses = star_pos_vel()"
   ]
  },
  {
   "cell_type": "markdown",
   "id": "4977845f-e4f6-45a9-a946-d52d5036252e",
   "metadata": {},
   "source": [
    "Galaxy Angular Momentum"
   ]
  },
  {
   "cell_type": "code",
   "execution_count": 5,
   "id": "e5f82611-db2b-4809-862e-a517735a0703",
   "metadata": {
    "tags": []
   },
   "outputs": [],
   "source": [
    "J_tot = []\n",
    "J_test = []\n",
    "v = []\n",
    "\n",
    "r_new = []\n",
    "\n",
    "position = []\n",
    "\n",
    "for i in range(len(dx)):\n",
    "    pos_vec = [dx[i], dy[i], dz[i]]\n",
    "    vel_vec = [vx[i], vy[i], vz[i]]\n",
    "    pos = np.sqrt(np.dot(pos_vec,pos_vec))\n",
    "    if pos <= 30:\n",
    "        position.append(pos)\n",
    "        result = star_masses[i]*(np.cross(pos_vec, vel_vec))\n",
    "        v.append(vel_vec)\n",
    "        J_tot.append(result)\n",
    "        r_new.append(np.sqrt(dx[i]**2 + dy[i]**2 + dz[i]**2))\n",
    "        J_test.append(np.sqrt(result[0]**2 + result[1]**2 + result[2]**2))\n"
   ]
  },
  {
   "cell_type": "code",
   "execution_count": 16,
   "id": "042f0fa5-ff89-4715-acc7-4df2605e9a0b",
   "metadata": {},
   "outputs": [
    {
     "name": "stdout",
     "output_type": "stream",
     "text": [
      "[-10.354553 -13.606918   9.217438 ... 305.1421   -68.53239   33.02496 ]\n"
     ]
    }
   ],
   "source": [
    "print((vx))\n"
   ]
  },
  {
   "cell_type": "code",
   "execution_count": 7,
   "id": "97437b7b-3943-4a74-9bdc-af5d3ed5f7e2",
   "metadata": {},
   "outputs": [
    {
     "name": "stdout",
     "output_type": "stream",
     "text": [
      "1619212 1619212 1619212 29.999925392691832\n"
     ]
    }
   ],
   "source": [
    "count = []\n",
    "\n",
    "for point in position:\n",
    "    if point <= 30:\n",
    "        count.append(point)\n",
    "        \n",
    "print(len(position),\n",
    "     len(v), len(J_test),max(count))"
   ]
  },
  {
   "cell_type": "markdown",
   "id": "45ae24cc-4e19-4c15-9247-fd20d9990a91",
   "metadata": {},
   "source": [
    "Vertical Unit Vector"
   ]
  },
  {
   "cell_type": "code",
   "execution_count": 8,
   "id": "c12c7eba-b77d-4467-ba11-edfc390d683b",
   "metadata": {
    "tags": []
   },
   "outputs": [
    {
     "name": "stdout",
     "output_type": "stream",
     "text": [
      "[4.93262445e+13 3.43852538e+13 1.09683601e+13]\n"
     ]
    }
   ],
   "source": [
    "J = sum(J_tot)\n",
    "\n",
    "J_mag = np.sqrt(J[0]**2 + J[1]**2 + J[2]**2)\n",
    "print(J)\n",
    "n_j = J/J_mag"
   ]
  },
  {
   "cell_type": "markdown",
   "id": "3d593640-af83-4298-b077-255c0d80b482",
   "metadata": {
    "tags": []
   },
   "source": [
    "2d Radius and Radial Unit Vector"
   ]
  },
  {
   "cell_type": "code",
   "execution_count": 9,
   "id": "9bb67151-fb2e-4957-a9cd-5118a1faab11",
   "metadata": {},
   "outputs": [],
   "source": [
    "r_2d_tot = []\n",
    "n_r = []\n",
    "\n",
    "for i in range(len(position)):\n",
    "    pos_vec = [dx[i], dy[i], dz[i]]\n",
    "    vel_vec = [vx[i], vy[i], vz[i]]\n",
    "    r_2d = pos_vec - np.dot(pos_vec,n_j)\n",
    "    \n",
    "    r_2d_tot.append(result)\n",
    "    \n",
    "    r_2d_mag = np.sqrt(r_2d[0]**2 + r_2d[1]**2 + r_2d[2]**2)\n",
    "    \n",
    "    n_r.append(r_2d/r_2d_mag)\n"
   ]
  },
  {
   "cell_type": "markdown",
   "id": "b8b482f0-3320-4889-88ac-14647bf96045",
   "metadata": {},
   "source": [
    "Rotational Unit Vector"
   ]
  },
  {
   "cell_type": "code",
   "execution_count": 10,
   "id": "f2e751ad-6eb3-44c9-a8e7-0b41400afe17",
   "metadata": {},
   "outputs": [],
   "source": [
    "n_phi = []\n",
    "\n",
    "for i in range(len(position)):\n",
    "\n",
    "    result = np.cross(n_j,n_r[i])\n",
    "    \n",
    "    n_phi.append(result)"
   ]
  },
  {
   "cell_type": "markdown",
   "id": "11071ebf-15e4-4e1b-84b7-32a07ccc37ef",
   "metadata": {},
   "source": [
    "Galaxy Reference Frame Velocities"
   ]
  },
  {
   "cell_type": "code",
   "execution_count": 11,
   "id": "e0bf2c1a-18a3-4861-a205-89dc13d68bf6",
   "metadata": {},
   "outputs": [],
   "source": [
    "v_phi_i = []\n",
    "v_r_i = []\n",
    "v_j_i = []\n",
    "v_dotted_i = []\n",
    "for i in range(len(position)):\n",
    "    v_phi_i.append(np.dot(v[i],n_phi[i]))\n",
    "    v_r_i.append(np.dot(v[i],n_r[i]))\n",
    "    v_j_i.append(np.dot(v[i],n_j))\n",
    "    v_dotted_i.append(np.dot(v[i],v[i]))\n",
    "\n",
    "v_phi = np.array(v_phi_i)\n",
    "v_r = np.array(v_r_i)\n",
    "v_j = np.array(v_j_i)\n",
    "v_dotted = np.array(v_dotted_i)"
   ]
  },
  {
   "cell_type": "code",
   "execution_count": 12,
   "id": "9e468c78-f613-4859-983c-ed1b0067807e",
   "metadata": {},
   "outputs": [
    {
     "name": "stdout",
     "output_type": "stream",
     "text": [
      "(1619212, 3) (1619212,) (1619212,) (1619212,)\n"
     ]
    }
   ],
   "source": [
    "print(np.shape(v),\n",
    "      np.shape(r_new),\n",
    "      np.shape(v_phi),\n",
    "      np.shape(v_dotted))"
   ]
  },
  {
   "cell_type": "code",
   "execution_count": 13,
   "id": "95a6fb20-1a1b-4321-9311-a42dc3d1e2c0",
   "metadata": {},
   "outputs": [
    {
     "data": {
      "text/plain": [
       "()"
      ]
     },
     "execution_count": 13,
     "metadata": {},
     "output_type": "execute_result"
    }
   ],
   "source": [
    "v_final = v_dotted - v_r**2 - v_j**2\n",
    "\n",
    "np.shape(J_mag)"
   ]
  },
  {
   "cell_type": "markdown",
   "id": "830b0ad8-99c9-4469-bd6f-4255775cbafa",
   "metadata": {},
   "source": [
    "Epsilon"
   ]
  },
  {
   "cell_type": "code",
   "execution_count": 14,
   "id": "c3ca437a-26d4-4b4b-bf89-d048f720cbd1",
   "metadata": {},
   "outputs": [
    {
     "name": "stdout",
     "output_type": "stream",
     "text": [
      "316742.6560843138 [  320.82341339   617.78539619   836.2209049   1031.56170717\n",
      "  1213.34101886  1390.03533946  1564.52655029  1739.9525714\n",
      "  1918.19680491  2099.88232726  2285.92816327  2476.69850904\n",
      "  2671.6977253   2871.37080891  3074.98196388  3281.18581148\n",
      "  3491.20186563  3704.00146749  3920.74750973  4140.71551857\n",
      "  4365.02274691  4592.90547798  4823.83041392  5057.51157576\n",
      "  5293.85681431  5532.33648267  5771.97255801  6014.67556931\n",
      "  6261.42863255  6509.40719998  6759.90275092  7013.20735532\n",
      "  7266.8951921   7523.20476286  7781.08387111  8038.4016854\n",
      "  8297.33597239  8558.5500721   8818.06637692  9076.05554873\n",
      "  9333.40779777  9590.76483855  9846.0576489  10098.50532121\n",
      " 10350.64473121 10600.63531003 10845.91484577 11086.13913335\n",
      " 11321.14883234]\n"
     ]
    },
    {
     "data": {
      "image/png": "[encoded data removed]",
      "text/plain": [
       "<Figure size 432x288 with 1 Axes>"
      ]
     },
     "metadata": {
      "needs_background": "light"
     },
     "output_type": "display_data"
    }
   ],
   "source": [
    "e_v = J_test[10]/(r*vel_circ)\n",
    "\n",
    "print(J_test[10],(r*vel_circ))\n",
    "\n",
    "e_v_final, y = np.histogram(e_v)\n",
    "\n",
    "y_final = (y[1:]+y[:-1])/2\n",
    "\n",
    "\n",
    "plt.plot(e_v_final, y_final, label = \"epsilon\")\n",
    "\n",
    "plt.legend()\n",
    "\n",
    "plt.show()"
   ]
  },
  {
   "cell_type": "markdown",
   "id": "0f32877a-5ac0-41c0-80d2-a818d8cb12ce",
   "metadata": {},
   "source": [
    "Radial Velocity"
   ]
  },
  {
   "cell_type": "code",
   "execution_count": 15,
   "id": "7ed7c09b-758f-4abb-9cbd-162721670381",
   "metadata": {},
   "outputs": [
    {
     "data": {
      "image/png": "[encoded data removed]",
      "text/plain": [
       "<Figure size 432x288 with 1 Axes>"
      ]
     },
     "metadata": {
      "needs_background": "light"
     },
     "output_type": "display_data"
    }
   ],
   "source": [
    "import requests\n",
    "from scipy import stats\n",
    "import h5py\n",
    "import numpy as np\n",
    "from velocity import get\n",
    "\n",
    "\n",
    "\n",
    "vr,rr,num = stats.binned_statistic(r_new,v_final,statistic='sum',bins=np.linspace(0,30,50))\n",
    "        \n",
    "r_final = (rr[1:]+rr[:-1])/2\n",
    "#plt.plot(r,vel_circ, label = \"v_circ\")\n",
    "plt.plot(r_final[30:],vr[30:], label = \"v_r\")\n",
    "\n",
    "plt.legend()\n",
    "\n",
    "plt.xlabel(\"Radius (kpc)\")\n",
    "plt.ylabel(\"Orbital Speed (km/s)\")\n",
    "plt.title(\"Orbital Speed vs Radius\")\n",
    "#plt.savefig(\"OrbitalVel_tot.png\",dpi=200)\n",
    "\n",
    "plt.show()"
   ]
  }
 ],
 "metadata": {
  "kernelspec": {
   "display_name": "Python 3",
   "language": "python",
   "name": "python3"
  },
  "language_info": {
   "codemirror_mode": {
    "name": "ipython",
    "version": 3
   },
   "file_extension": ".py",
   "mimetype": "text/x-python",
   "name": "python",
   "nbconvert_exporter": "python",
   "pygments_lexer": "ipython3",
   "version": "3.6.13"
  }
 },
 "nbformat": 4,
 "nbformat_minor": 5
}
